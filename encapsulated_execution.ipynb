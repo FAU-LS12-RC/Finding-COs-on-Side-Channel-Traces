{
 "cells": [
  {
   "cell_type": "markdown",
   "metadata": {},
   "source": [
    "# Encapsulated execution Notebook\n",
    "\n",
    "This notebook has the methods for finding the COs in a trace a little bit more encapsulated. We can call a testcase, the TraceCreator will load the trace with the necessary information and the we can employ the SampleFinder to find the correct starting points which can then be refined and evaluated."
   ]
  },
  {
   "cell_type": "code",
   "execution_count": null,
   "metadata": {},
   "outputs": [],
   "source": [
    "from src.refiner import Refiner\n",
    "from src.trace_creator import TraceImporter\n",
    "from src.sample_finder import SampleFinder\n",
    "\n",
    "#uncomment testcases as you wish to try different scenarios mentioned in the paper.\n",
    "testcase = \"stm32f4_tinyaes\"           #tested with a decimation factor of 5\n",
    "#testcase = \"stm32f4_HWAES\"             #tested with a decimation factor of 1\n",
    "#testcase = \"sha256_external_clock\"     #tested with a decimation factor of 15\n",
    "#testcase = \"sha256_internal_clock\"     #tested with a decimation factor of 25 (to use less ressources)\n",
    "#testcase = \"mbed_tls_AES\"              #tested with a decimation factor of 25 \n",
    "                                        #This testcase might be too large for your PC\n",
    "\n",
    "proposed_decimation_factors = {\n",
    "    \"stm32f4_tinyaes\":5,\n",
    "    \"stm32f4_HWAES\":1,\n",
    "    \"sha256_external_clock\":15,\n",
    "    \"sha256_internal_clock\":25,\n",
    "    \"mbed_tls_AES\":25\n",
    "    }\n",
    "\n",
    "decimation_factor = proposed_decimation_factors[testcase]   #only change this if you know what you're doing. \n",
    "                        #If the decimation factor is too high, the algorithm will not be able to find the pattern\n",
    "                        #The samples per clock need to be an integer. Set this variable accordingly.\n",
    "\n",
    "trace_creator =  TraceImporter(testcase,do_plots=False)\n",
    "trace_container = trace_creator.trace_container\n",
    "\n",
    "trace_container.decimate_trace(decimation_factor)\n",
    "#Plot the imported trace in a decimated fashion:\n",
    "trace_container.plot_trace(decimate_for_plot_factor=40)"
   ]
  },
  {
   "cell_type": "markdown",
   "metadata": {},
   "source": [
    "## Finding the COs after we imported the Trace\n",
    "\n",
    "After sucessfully importing the Trace, we can now start to search for the COs in the trace.\n",
    "For this we just use the given values we found."
   ]
  },
  {
   "cell_type": "code",
   "execution_count": null,
   "metadata": {},
   "outputs": [],
   "source": [
    "#Plots also take a lot of time here because they are very large...\n",
    "do_quality_plot = True #quality q_w(i) plot which is calculated in Algorithm 1\n",
    "do_main_sub_peak_plot = True # plot the correlation which is used to find the main and sub-peaks in Algorthm 2\n",
    "\n",
    "print(\"Info: Starting to find COs in a trace with length \" + str(len(trace_container.get_trace())) + \".\")\n",
    "\n",
    "sample_finder = SampleFinder(trace_container,\n",
    "    exact_clk_cycles=trace_container.known_width_clk_cycles,\n",
    "    error_margin=0.1,\n",
    "    allowed_sub_peak_delta=2\n",
    "    )\n",
    "\n",
    "\n",
    "found_width, found_peak_idx,char_trace_template = sample_finder.full_auto_find_COs(do_quality_plot=do_quality_plot,\n",
    "    do_main_sub_peak_plot=do_main_sub_peak_plot,\n",
    "    avg_round_template=True,\n",
    "    sad_approach=False,\n",
    "    use_detrended=False,\n",
    "    sad_for_autocorr=False)\n"
   ]
  },
  {
   "cell_type": "markdown",
   "metadata": {},
   "source": [
    "After finding all the COs we can improve the found indices further by using the refinement of the template"
   ]
  },
  {
   "cell_type": "code",
   "execution_count": null,
   "metadata": {},
   "outputs": [],
   "source": [
    "refiner = Refiner(trace_container)\n",
    "refined_template = refiner.get_template_with_sad()\n",
    "\n",
    "trace_container.calculated_start_idx_aes = sample_finder.find_COs_with_template(refined_template)\n",
    "trace_container.plot_trace(decimate_for_plot_factor=40)\n"
   ]
  },
  {
   "cell_type": "markdown",
   "metadata": {},
   "source": [
    "After refining the found indices, we can now look at the accuracy because we know where the COs in this trace are."
   ]
  },
  {
   "cell_type": "code",
   "execution_count": null,
   "metadata": {},
   "outputs": [],
   "source": [
    "from src.evaluator import Evaluator\n",
    "print(\"Refined accuracy:  ---------------------------------------------------------------------\")\n",
    "evaluator_after_refinement = Evaluator(trace_container,do_plots=True)\n"
   ]
  },
  {
   "cell_type": "markdown",
   "metadata": {},
   "source": [
    "# Unlimited Refinement\n",
    "\n",
    "After finding (some of) the correct starting indices, we can further refine the template by using the refinement multiple times until nothing changes anymore or we reach a threshold.\n",
    "\n",
    "This may not be needed if the results are already good enough. For larger traces this can take a while."
   ]
  },
  {
   "cell_type": "code",
   "execution_count": null,
   "metadata": {},
   "outputs": [],
   "source": [
    "import numpy as np\n",
    "\n",
    "for i in range(5): #refine 5 times or until no more improvement:\n",
    "    print(\"Refining Round \" + str(i+1))\n",
    "    old_start_idx = trace_container.calculated_start_idx_aes\n",
    "\n",
    "    refiner = Refiner(trace_container)\n",
    "    refined_template = refiner.get_template_with_sad(plot_finished_template=True)\n",
    "    refined_start_idx = sample_finder.find_COs_with_template(refined_template)\n",
    "\n",
    "    if np.array_equal(old_start_idx,refined_start_idx):\n",
    "        break\n",
    "    else:\n",
    "        trace_container.calculated_start_idx_aes=refined_start_idx\n",
    "\n",
    "print(\"Finished refinement after \"+str(i+1)+\" rounds.\")\n",
    "print(\"refined accuracy:  ---------------------------------------------------------------------\")\n",
    "evaluator_after_refinement = Evaluator(trace_container,do_plots=True,max_rnd_offset_adj=205)\n"
   ]
  },
  {
   "cell_type": "code",
   "execution_count": null,
   "metadata": {},
   "outputs": [],
   "source": []
  }
 ],
 "metadata": {
  "interpreter": {
   "hash": "3ad705550cbbb9d7da81cf351752122dd4b55b4258da963e13505a264bc49ff5"
  },
  "kernelspec": {
   "display_name": "Python 3.7.12 64-bit ('clean37': conda)",
   "language": "python",
   "name": "python3712jvsc74a57bd03ad705550cbbb9d7da81cf351752122dd4b55b4258da963e13505a264bc49ff5"
  },
  "language_info": {
   "codemirror_mode": {
    "name": "ipython",
    "version": 3
   },
   "file_extension": ".py",
   "mimetype": "text/x-python",
   "name": "python",
   "nbconvert_exporter": "python",
   "pygments_lexer": "ipython3",
   "version": "3.7.12"
  }
 },
 "nbformat": 4,
 "nbformat_minor": 2
}
