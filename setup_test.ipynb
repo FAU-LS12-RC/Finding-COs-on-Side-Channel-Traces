{
 "cells": [
  {
   "cell_type": "markdown",
   "metadata": {},
   "source": [
    "# Setup Test\n",
    "\n",
    "This notebook will attempt to import some necessary files, and will try to verify that your OpenCL installation is working.\n",
    "\n",
    "Note that at this point you should have created a suitable Python 3.7 environment according to the [README](https://github.com/FAU-LS12-RC/Finding-COs-in-Side-Channel-Traces)."
   ]
  },
  {
   "cell_type": "code",
   "execution_count": 14,
   "metadata": {},
   "outputs": [
    {
     "name": "stdout",
     "output_type": "stream",
     "text": [
      "Python version\n",
      "3.7.11 (default, Jul 27 2021, 14:32:16) \n",
      "[GCC 7.5.0]\n"
     ]
    }
   ],
   "source": [
    "import sys\n",
    "print(\"Python version\")\n",
    "print (sys.version)\n",
    "\n",
    "assert (sys.version.startswith('3.7')), 'Are you sure you are using Python 3.7?'"
   ]
  },
  {
   "cell_type": "code",
   "execution_count": 15,
   "metadata": {},
   "outputs": [
    {
     "name": "stdout",
     "output_type": "stream",
     "text": [
      "[<pyopencl.Platform 'NVIDIA CUDA' at 0x563070d53480>]\n"
     ]
    }
   ],
   "source": [
    "from src.refiner import Refiner\n",
    "from src.trace_creator import TraceImporter\n",
    "from src.sample_finder import SampleFinder\n",
    "from src.autocorrelation_accl import Autocorrelation_Accelerator\n",
    "\n",
    "\n",
    "import pyopencl\n",
    "\n",
    "#The following print-call should print your openCL device. If its a NVIDIA GPU, the output should be 'NVIDIA CUDA'\n",
    "#IF you get \"LogicError: clGetPlatformIDs failed: PLATFORM_NOT_FOUND_KHR\" then you need to make pyopencl aware of you opencl device. (https://documen.tician.de/pyopencl/misc.html)\n",
    "print(pyopencl.get_platforms())"
   ]
  }
 ],
 "metadata": {
  "interpreter": {
   "hash": "3ad705550cbbb9d7da81cf351752122dd4b55b4258da963e13505a264bc49ff5"
  },
  "kernelspec": {
   "display_name": "Python 3 (ipykernel)",
   "language": "python",
   "name": "python3"
  },
  "language_info": {
   "codemirror_mode": {
    "name": "ipython",
    "version": 3
   },
   "file_extension": ".py",
   "mimetype": "text/x-python",
   "name": "python",
   "nbconvert_exporter": "python",
   "pygments_lexer": "ipython3",
   "version": "3.7.11"
  }
 },
 "nbformat": 4,
 "nbformat_minor": 2
}
