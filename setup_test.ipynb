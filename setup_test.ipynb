{
 "cells": [
  {
   "cell_type": "code",
   "execution_count": null,
   "metadata": {},
   "outputs": [],
   "source": []
  },
  {
   "cell_type": "markdown",
   "metadata": {},
   "source": [
    "# Setup Test\n",
    "\n",
    "This notebook will load all the necessary files and try out if everything works.\n",
    "\n",
    "\n",
    "To use the provided notebooks, you can use anaconda (https://www.anaconda.com/products/individual) to manage your packages.\n",
    "The new environment should be with python 3.7 and have the following packages installed:\n",
    "- scipy\n",
    "- holoviews\n",
    "- bokeh\n",
    "- ipykernel\n",
    "- tikzplotlib\n",
    "- numba\n",
    "- pyopencl\n",
    "- (ocl-icd-system) (helps pyopencl to find your openCL capable device, more information here: https://documen.tician.de/pyopencl/misc.html)\n",
    "\n",
    "If you dont want to do this manually, here is the conda create comand:\n",
    "\"conda create -n clean37 python=3.7 scipy holoviews bokeh ipykernel tikzplotlib numba pyopencl ocl-icd-system\"\n",
    "\n",
    "After executing this and trying the setup_test.ipynb you should be good to go!\n",
    "\n"
   ]
  },
  {
   "cell_type": "code",
   "execution_count": 1,
   "metadata": {},
   "outputs": [
    {
     "name": "stdout",
     "output_type": "stream",
     "text": [
      "[<pyopencl.Platform 'NVIDIA CUDA' at 0x55f6c5b1b4f0>]\n"
     ]
    }
   ],
   "source": [
    "from src.refiner import Refiner\n",
    "from src.trace_creator import TraceImporter\n",
    "from src.sample_finder import SampleFinder\n",
    "from src.autocorrelation_accl import Autocorrelation_Accelerator\n",
    "\n",
    "\n",
    "import pyopencl\n",
    "\n",
    "#The following print-call should print your openCL device. If its a NVIDIA GPU, the output should be 'NVIDIA CUDA'\n",
    "#IF you get \"LogicError: clGetPlatformIDs failed: PLATFORM_NOT_FOUND_KHR\" then you need to make pyopencl aware of you opencl device. (https://documen.tician.de/pyopencl/misc.html)\n",
    "print(pyopencl.get_platforms())"
   ]
  },
  {
   "cell_type": "markdown",
   "metadata": {},
   "source": []
  }
 ],
 "metadata": {
  "interpreter": {
   "hash": "3ad705550cbbb9d7da81cf351752122dd4b55b4258da963e13505a264bc49ff5"
  },
  "kernelspec": {
   "display_name": "Python 3.7.12 64-bit ('clean37': conda)",
   "language": "python",
   "name": "python3712jvsc74a57bd03ad705550cbbb9d7da81cf351752122dd4b55b4258da963e13505a264bc49ff5"
  },
  "language_info": {
   "codemirror_mode": {
    "name": "ipython",
    "version": 3
   },
   "file_extension": ".py",
   "mimetype": "text/x-python",
   "name": "python",
   "nbconvert_exporter": "python",
   "pygments_lexer": "ipython3",
   "version": "3.7.12"
  }
 },
 "nbformat": 4,
 "nbformat_minor": 2
}
